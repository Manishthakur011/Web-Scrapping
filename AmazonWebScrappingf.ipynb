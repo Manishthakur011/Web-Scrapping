{
 "cells": [
  {
   "cell_type": "markdown",
   "id": "d622282d",
   "metadata": {},
   "source": [
    "# Web Scrapping Using Selenium with python"
   ]
  },
  {
   "cell_type": "code",
   "execution_count": null,
   "id": "33f4253c",
   "metadata": {},
   "outputs": [],
   "source": [
    "import selenium\n",
    "import pandas as pd\n",
    "import numpy as np"
   ]
  },
  {
   "cell_type": "code",
   "execution_count": null,
   "id": "ae1e588d",
   "metadata": {},
   "outputs": [],
   "source": []
  },
  {
   "cell_type": "markdown",
   "id": "27724447",
   "metadata": {},
   "source": [
    "### Extracting data from a particular link"
   ]
  },
  {
   "cell_type": "code",
   "execution_count": null,
   "id": "46a49920",
   "metadata": {},
   "outputs": [],
   "source": [
    "from selenium import webdriver\n",
    "from selenium.webdriver.edge.service import Service\n",
    "import pandas as pd\n",
    "\n",
    "def scrape_amazon_best_sellers():\n",
    "    # Specify the path to the Edge WebDriver executable\n",
    "    driver_path = \"C:\\\\Users\\\\91628\\\\Documents\\\\edgedriver_win64\\\\msedgedriver.exe\"\n",
    "\n",
    "    # Create a Service object with the executable path\n",
    "    service = Service(driver_path)\n",
    "\n",
    "    # Set up the Edge WebDriver using the Service object\n",
    "    driver = webdriver.Edge(service=service)\n",
    "\n",
    "    # Navigate to Amazon.in best sellers page\n",
    "    driver.get('https://www.amazon.in/gp/bestsellers/kitchen/1380469031/ref=zg_bs_unv_kitchen_3_4951339031_2')\n",
    "    \n",
    "    try:\n",
    "        # Find the top 3 best sellers\n",
    "        best_sellers = driver.find_elements(by='css selector', value='.a-column')[:3]\n",
    "\n",
    "        # Create an empty list to store the links\n",
    "        data = []\n",
    "\n",
    "        # Extract and store the links for the top 3 best sellers\n",
    "        for index, product in enumerate(best_sellers, start=1):\n",
    "            product_link_element = product.find_element(by='css selector', value='a.a-link-normal')\n",
    "            product_link = product_link_element.get_attribute('href')  # Get the 'href' attribute\n",
    "            data.append({'Link': product_link})\n",
    "\n",
    "            print(f\"Top {index} Link: {product_link}\")\n",
    "\n",
    "        # Create a pandas DataFrame from the scraped links\n",
    "        df = pd.DataFrame(data)\n",
    "\n",
    "        # Export the DataFrame to an Excel file\n",
    "        excel_file_path = \"ccov.xlsx\"\n",
    "        df.to_excel(excel_file_path, index=False)\n",
    "\n",
    "        print(f\"Scraped data saved to {excel_file_path}\")\n",
    "    \n",
    "    finally:\n",
    "        # Close the WebDriver\n",
    "        driver.quit()\n",
    "\n",
    "# Call the scraping function\n",
    "scrape_amazon_best_sellers()\n"
   ]
  },
  {
   "cell_type": "markdown",
   "id": "e503ca70",
   "metadata": {},
   "source": [
    "### Automatically extracting data using selenium "
   ]
  },
  {
   "cell_type": "code",
   "execution_count": null,
   "id": "cad34a65",
   "metadata": {},
   "outputs": [],
   "source": [
    "from selenium import webdriver\n",
    "from selenium.webdriver.edge.service import Service\n",
    "import pandas as pd\n",
    "\n",
    "def scrape_amazon_best_sellers():\n",
    "    # Specify the path to the Edge WebDriver executable\n",
    "    driver_path = \"C:\\\\Users\\\\91628\\\\Documents\\\\edgedriver_win64\\\\msedgedriver.exe\"\n",
    "\n",
    "    # Create a Service object with the executable path\n",
    "    service = Service(driver_path)\n",
    "\n",
    "    # Set up the Edge WebDriver using the Service object\n",
    "    driver = webdriver.Edge(service=service)\n",
    "    \n",
    "    try:\n",
    "        # Read links from an Excel file\n",
    "        excel_file_path = \"final.xlsx\"\n",
    "        df = pd.read_excel(excel_file_path)\n",
    "\n",
    "        # Create a list to store the top 3 links\n",
    "        my_list = []\n",
    "\n",
    "        for index, row in df.iterrows():\n",
    "            # Replace 'NODE' with the actual column name from your Excel file\n",
    "            product_link = row['NODE']\n",
    "\n",
    "            # Navigate to the product page\n",
    "            driver.get(product_link)\n",
    "\n",
    "            # Check if the page contains best-selling products (you can customize this logic)\n",
    "            # For example, check for a specific element that appears on pages with best sellers\n",
    "            if driver.find_elements(by='css selector', value='YOUR_BEST_SELLER_CHECK_SELECTOR'):\n",
    "                my_list.append(product_link)\n",
    "\n",
    "            # Stop when you have found the top 3 links\n",
    "            if len(my_list) >= 3:\n",
    "                break\n",
    "\n",
    "        # Create a DataFrame with the top 3 links\n",
    "        my_list = pd.DataFrame({'Link': my_list})\n",
    "\n",
    "        # Export the DataFrame to an Excel file\n",
    "        my_list.to_excel(\"my_list.xlsx\", index=False)\n",
    "\n",
    "    except Exception as e:\n",
    "        print(f\"An error occurred: {str(e)}\")\n",
    "    finally:\n",
    "        # Close the WebDriver\n",
    "        driver.quit()\n",
    "\n",
    "# Call the scraping function\n",
    "scrape_amazon_best_sellers()\n"
   ]
  },
  {
   "cell_type": "code",
   "execution_count": null,
   "id": "08369feb",
   "metadata": {},
   "outputs": [],
   "source": []
  },
  {
   "cell_type": "code",
   "execution_count": null,
   "id": "88f13da0",
   "metadata": {},
   "outputs": [],
   "source": []
  },
  {
   "cell_type": "code",
   "execution_count": null,
   "id": "5518cc16",
   "metadata": {},
   "outputs": [],
   "source": []
  }
 ],
 "metadata": {
  "kernelspec": {
   "display_name": "Python 3 (ipykernel)",
   "language": "python",
   "name": "python3"
  },
  "language_info": {
   "codemirror_mode": {
    "name": "ipython",
    "version": 3
   },
   "file_extension": ".py",
   "mimetype": "text/x-python",
   "name": "python",
   "nbconvert_exporter": "python",
   "pygments_lexer": "ipython3",
   "version": "3.9.13"
  }
 },
 "nbformat": 4,
 "nbformat_minor": 5
}
